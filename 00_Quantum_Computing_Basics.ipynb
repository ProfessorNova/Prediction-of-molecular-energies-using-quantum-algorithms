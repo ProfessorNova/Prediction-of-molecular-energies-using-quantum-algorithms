{
 "cells": [
  {
   "cell_type": "markdown",
   "id": "82727a48",
   "metadata": {},
   "source": [
    "# Quantum Computing Basics\n",
    "\n",
    "Before diving into **quantum algorithms** for **chemistry**, it's essential to understand some fundamental concepts of **quantum computing**. This section provides a brief overview of the key **principles** and **components** of quantum computing."
   ]
  },
  {
   "cell_type": "markdown",
   "id": "c4b3747c",
   "metadata": {},
   "source": [
    "## 1. Qubits and Basis States\n",
    "\n",
    "In **classical computing**, the basic unit of information is a **bit**, which can be either **0** or **1**.\n",
    "A **qubit**, or **quantum bit**, can exist in a **superposition** of both states simultaneously.\n",
    "\n",
    "In the **computational basis**, we represent the two **basis states** of a qubit as vectors:\n",
    "\n",
    "$|0\\rangle = \\begin{pmatrix} 1 \\\\ 0 \\end{pmatrix}, \\quad |1\\rangle = \\begin{pmatrix} 0 \\\\ 1 \\end{pmatrix}$\n",
    "\n",
    "Generally, a **qubit state** can be expressed as the **linear combination** of these basis states:\n",
    "\n",
    "$$|\\psi\\rangle = \\alpha |0\\rangle + \\beta |1\\rangle$$\n",
    "\n",
    "where **$\\alpha$** and **$\\beta$** are **complex numbers** that satisfy the **normalization condition**:\n",
    "\n",
    "$$|\\alpha|^2 + |\\beta|^2 = 1$$\n",
    "\n",
    "This means that the **probabilities** of measuring the qubit in the **$|0\\rangle$** or **$|1\\rangle$** state are given by **$|\\alpha|^2$** and **$|\\beta|^2$**, respectively."
   ]
  },
  {
   "cell_type": "code",
   "execution_count": 1,
   "id": "03b8b819",
   "metadata": {},
   "outputs": [],
   "source": [
    "import numpy as np\n",
    "\n",
    "zero_state = np.array([1, 0], dtype=complex)\n",
    "one_state = np.array([0, 1], dtype=complex)"
   ]
  },
  {
   "cell_type": "markdown",
   "id": "d134fbd8",
   "metadata": {},
   "source": [
    "## 2. Systems of multiple Qubits\n",
    "\n",
    "Multiple **qubits** can be described using the **tensor product** of their individual states. The tensor product of two qubits $|\\psi_1\\rangle$ and $|\\psi_2\\rangle$ is denoted as:\n",
    "\n",
    "$$|\\psi_1\\rangle \\otimes |\\psi_2\\rangle$$\n",
    "\n",
    "Given two qubits in states:\n",
    "\n",
    "$$|\\psi_1\\rangle = \\alpha |0\\rangle + \\beta |1\\rangle$$\n",
    "\n",
    "$$|\\psi_2\\rangle = \\gamma |0\\rangle + \\delta |1\\rangle$$\n",
    "\n",
    "The **combined state** of the two qubits is:\n",
    "\n",
    "$$|\\psi\\rangle = |\\psi_1\\rangle \\otimes |\\psi_2\\rangle = \\alpha\\gamma |00\\rangle + \\alpha\\delta |01\\rangle + \\beta\\gamma |10\\rangle + \\beta\\delta |11\\rangle$$\n",
    "\n",
    "Or written in **vector form**:\n",
    "\n",
    "$$|\\psi\\rangle = \n",
    "\\begin{pmatrix} \\alpha \\\\ \\beta \\end{pmatrix} \\otimes \\begin{pmatrix} \\gamma \\\\ \\delta \\end{pmatrix} = \n",
    "\\begin{pmatrix} \n",
    "\\alpha \\cdot \\left(\\begin{matrix} \\gamma \\\\ \\delta \\end{matrix}\\right) \\\\ \n",
    "\\beta \\cdot \\left(\\begin{matrix} \\gamma \\\\ \\delta \\end{matrix}\\right) \n",
    "\\end{pmatrix} =\n",
    "\\begin{pmatrix} \\alpha\\gamma \\\\ \\alpha\\delta \\\\ \\beta\\gamma \\\\ \\beta\\delta \\end{pmatrix}$$"
   ]
  },
  {
   "cell_type": "code",
   "execution_count": 2,
   "id": "0c5160cf",
   "metadata": {},
   "outputs": [
    {
     "name": "stdout",
     "output_type": "stream",
     "text": [
      "Tensor product of |0> and |0>: [1.+0.j 0.+0.j 0.+0.j 0.+0.j]\n"
     ]
    },
    {
     "data": {
      "text/latex": [
       "$\\displaystyle \\left[\\begin{matrix}1.0\\\\0\\\\0\\\\0\\end{matrix}\\right]$"
      ],
      "text/plain": [
       "Matrix([\n",
       "[1.0],\n",
       "[  0],\n",
       "[  0],\n",
       "[  0]])"
      ]
     },
     "metadata": {},
     "output_type": "display_data"
    },
    {
     "name": "stdout",
     "output_type": "stream",
     "text": [
      "Tensor product of |0> and |1>: [0.+0.j 1.+0.j 0.+0.j 0.+0.j]\n"
     ]
    },
    {
     "data": {
      "text/latex": [
       "$\\displaystyle \\left[\\begin{matrix}0\\\\1.0\\\\0\\\\0\\end{matrix}\\right]$"
      ],
      "text/plain": [
       "Matrix([\n",
       "[  0],\n",
       "[1.0],\n",
       "[  0],\n",
       "[  0]])"
      ]
     },
     "metadata": {},
     "output_type": "display_data"
    },
    {
     "name": "stdout",
     "output_type": "stream",
     "text": [
      "Tensor product of |1> and |0>: [0.+0.j 0.+0.j 1.+0.j 0.+0.j]\n"
     ]
    },
    {
     "data": {
      "text/latex": [
       "$\\displaystyle \\left[\\begin{matrix}0\\\\0\\\\1.0\\\\0\\end{matrix}\\right]$"
      ],
      "text/plain": [
       "Matrix([\n",
       "[  0],\n",
       "[  0],\n",
       "[1.0],\n",
       "[  0]])"
      ]
     },
     "metadata": {},
     "output_type": "display_data"
    },
    {
     "name": "stdout",
     "output_type": "stream",
     "text": [
      "Tensor product of |1> and |1>: [0.+0.j 0.+0.j 0.+0.j 1.+0.j]\n"
     ]
    },
    {
     "data": {
      "text/latex": [
       "$\\displaystyle \\left[\\begin{matrix}0\\\\0\\\\0\\\\1.0\\end{matrix}\\right]$"
      ],
      "text/plain": [
       "Matrix([\n",
       "[  0],\n",
       "[  0],\n",
       "[  0],\n",
       "[1.0]])"
      ]
     },
     "metadata": {},
     "output_type": "display_data"
    },
    {
     "name": "stdout",
     "output_type": "stream",
     "text": [
      "Tensor product of |0>, |0> and |0>: [1.+0.j 0.+0.j 0.+0.j 0.+0.j 0.+0.j 0.+0.j 0.+0.j 0.+0.j]\n"
     ]
    },
    {
     "data": {
      "text/latex": [
       "$\\displaystyle \\left[\\begin{matrix}1.0\\\\0\\\\0\\\\0\\\\0\\\\0\\\\0\\\\0\\end{matrix}\\right]$"
      ],
      "text/plain": [
       "Matrix([\n",
       "[1.0],\n",
       "[  0],\n",
       "[  0],\n",
       "[  0],\n",
       "[  0],\n",
       "[  0],\n",
       "[  0],\n",
       "[  0]])"
      ]
     },
     "metadata": {},
     "output_type": "display_data"
    }
   ],
   "source": [
    "import sympy as sp\n",
    "\n",
    "zero_tensor_zero = np.kron(zero_state, zero_state)\n",
    "zero_tensor_one = np.kron(zero_state, one_state)\n",
    "one_tensor_zero = np.kron(one_state, zero_state)\n",
    "one_tensor_one = np.kron(one_state, one_state)\n",
    "\n",
    "print(\"Tensor product of |0> and |0>:\", zero_tensor_zero)\n",
    "display(sp.Matrix(zero_tensor_zero))\n",
    "print(\"Tensor product of |0> and |1>:\", zero_tensor_one)\n",
    "display(sp.Matrix(zero_tensor_one))\n",
    "print(\"Tensor product of |1> and |0>:\", one_tensor_zero)\n",
    "display(sp.Matrix(one_tensor_zero))\n",
    "print(\"Tensor product of |1> and |1>:\", one_tensor_one)\n",
    "display(sp.Matrix(one_tensor_one))\n",
    "\n",
    "zero_tensor_zero_tensor_zero = np.kron(np.kron(zero_state, zero_state), zero_state)\n",
    "\n",
    "print(\"Tensor product of |0>, |0> and |0>:\", zero_tensor_zero_tensor_zero)\n",
    "\n",
    "display(sp.Matrix(zero_tensor_zero_tensor_zero))"
   ]
  },
  {
   "cell_type": "markdown",
   "id": "c2375efb",
   "metadata": {},
   "source": [
    "The state space will grow **exponentially** with the number of **qubits**:\n",
    "\n",
    "- **1 qubit**: 2 states ($|0\\rangle$, $|1\\rangle$)\n",
    "- **2 qubits**: 4 states ($|00\\rangle$, $|01\\rangle$, $|10\\rangle$, $|11\\rangle$)\n",
    "- **3 qubits**: 8 states ($|000\\rangle$, $|001\\rangle$, $|010\\rangle$, $|011\\rangle$, $|100\\rangle$, $|101\\rangle$, $|110\\rangle$, $|111\\rangle$)\n",
    "- **n qubits**: $2^n$ states\n",
    "\n",
    "This makes the **simulation** of **quantum systems** on **classical computers** very **challenging** when exceeding about **20 qubits**."
   ]
  },
  {
   "cell_type": "markdown",
   "id": "271f290a",
   "metadata": {},
   "source": [
    "## 3. Bra-Ket Notation\n",
    "\n",
    "In quantum mechanics, the **bra-ket notation** (also known as **Dirac notation**) is a standard way to represent **quantum states** and their **inner products**.\n",
    "\n",
    "- **Ket**: $|\\psi\\rangle = \\begin{pmatrix} \\alpha \\\\ \\beta \\end{pmatrix}$\n",
    "- **Bra**: $\\langle\\psi| = \\begin{pmatrix} \\alpha^* & \\beta^* \\end{pmatrix}$\n",
    "\n",
    "Where **$\\alpha^*$** and **$\\beta^*$** are the **complex conjugates** of $\\alpha$ and $\\beta$.\n",
    "\n",
    "For example, the **inner product** (or **overlap**) of state zero with itself is given by:\n",
    "\n",
    "$$\\langle 0|0 \\rangle = \\begin{pmatrix} 1 & 0 \\end{pmatrix} \\begin{pmatrix} 1 \\\\ 0 \\end{pmatrix} = 1$$\n",
    "\n",
    "While the **inner product** of state zero with state one is:\n",
    "\n",
    "$$\\langle 0|1 \\rangle = \\begin{pmatrix} 1 & 0 \\end{pmatrix} \\begin{pmatrix} 0 \\\\ 1 \\end{pmatrix} = 0$$"
   ]
  },
  {
   "cell_type": "code",
   "execution_count": 3,
   "id": "53d56a6c",
   "metadata": {},
   "outputs": [
    {
     "name": "stdout",
     "output_type": "stream",
     "text": [
      "Inner product <0|0>: (1+0j)\n",
      "Inner product <0|1>: 0j\n",
      "Inner product <1|0>: 0j\n",
      "Inner product <1|1>: (1+0j)\n"
     ]
    }
   ],
   "source": [
    "zero_bra = np.array([1, 0], dtype=complex).conj().T\n",
    "zero_ket = np.array([1, 0], dtype=complex) \n",
    "one_bra = np.array([0, 1], dtype=complex).conj().T\n",
    "one_ket = np.array([0, 1], dtype=complex)\n",
    "\n",
    "inner_product_00 = np.dot(zero_bra, zero_ket)\n",
    "inner_product_01 = np.dot(zero_bra, one_ket)\n",
    "inner_product_10 = np.dot(one_bra, zero_ket)\n",
    "inner_product_11 = np.dot(one_bra, one_ket)\n",
    "\n",
    "print(\"Inner product <0|0>:\", inner_product_00)\n",
    "print(\"Inner product <0|1>:\", inner_product_01)\n",
    "print(\"Inner product <1|0>:\", inner_product_10)\n",
    "print(\"Inner product <1|1>:\", inner_product_11)"
   ]
  },
  {
   "cell_type": "markdown",
   "id": "178de741",
   "metadata": {},
   "source": [
    "This indicates that the states $|0\\rangle$ and $|1\\rangle$ are orthogonal. It may also be represented with the Kronecker delta:\n",
    "\n",
    "$$\\langle i|j \\rangle = \\delta_{ij} = \\begin{cases} 1 & \\text{if } i = j \\\\ 0 & \\text{if } i \\neq j \\end{cases}$$"
   ]
  },
  {
   "cell_type": "markdown",
   "id": "66606e1e",
   "metadata": {},
   "source": [
    "## 4. Quantum Gates\n",
    "\n",
    "**Quantum gates** are the building blocks of **quantum circuits**, analogous to classical logic gates. \n",
    "They manipulate the state of **qubits** through **unitary transformations**.\n",
    "For a gate to be physically realizable, it must be represented by a **unitary matrix** $U$, which satisfies the condition:\n",
    "$$U^\\dagger U = U U^\\dagger = I$$\n",
    "\n",
    "where **$U^\\dagger$** is the **conjugate transpose** of $U$, and **$I$** is the **identity matrix**.\n",
    "\n",
    "### Single-Qubit Gates\n",
    "\n",
    "Some common **single-qubit gates** include:\n",
    "\n",
    "- **Pauli-X Gate (NOT Gate)**: Flips the state of a qubit.\n",
    "  \n",
    "    $$X = \\begin{pmatrix} 0 & 1 \\\\ 1 & 0 \\end{pmatrix}$$\n",
    "\n",
    "- **Pauli-Y Gate**: Applies a rotation around the **Y-axis** of the **Bloch sphere** (we will cover the Bloch sphere later).\n",
    "\n",
    "    $$Y = \\begin{pmatrix} 0 & -i \\\\ i & 0 \\end{pmatrix}$$\n",
    "\n",
    "- **Pauli-Z Gate**: Applies a **phase flip** to the qubit.\n",
    "\n",
    "    $$Z = \\begin{pmatrix} 1 & 0 \\\\ 0 & -1 \\end{pmatrix}$$\n",
    "\n",
    "- **Hadamard Gate (H Gate)**: Creates **superposition states**.\n",
    "\n",
    "    $$H = \\frac{1}{\\sqrt{2}} \\begin{pmatrix} 1 & 1 \\\\ 1 & -1 \\end{pmatrix}$$"
   ]
  },
  {
   "cell_type": "code",
   "execution_count": 4,
   "id": "0ec4ee45",
   "metadata": {},
   "outputs": [
    {
     "name": "stdout",
     "output_type": "stream",
     "text": [
      "X times X†:\n"
     ]
    },
    {
     "data": {
      "text/latex": [
       "$\\displaystyle \\left[\\begin{matrix}1.0 & 0\\\\0 & 1.0\\end{matrix}\\right]$"
      ],
      "text/plain": [
       "Matrix([\n",
       "[1.0,   0],\n",
       "[  0, 1.0]])"
      ]
     },
     "metadata": {},
     "output_type": "display_data"
    },
    {
     "name": "stdout",
     "output_type": "stream",
     "text": [
      "Y times Y†:\n"
     ]
    },
    {
     "data": {
      "text/latex": [
       "$\\displaystyle \\left[\\begin{matrix}1.0 & 0\\\\0 & 1.0\\end{matrix}\\right]$"
      ],
      "text/plain": [
       "Matrix([\n",
       "[1.0,   0],\n",
       "[  0, 1.0]])"
      ]
     },
     "metadata": {},
     "output_type": "display_data"
    },
    {
     "name": "stdout",
     "output_type": "stream",
     "text": [
      "Z times Z†:\n"
     ]
    },
    {
     "data": {
      "text/latex": [
       "$\\displaystyle \\left[\\begin{matrix}1.0 & 0\\\\0 & 1.0\\end{matrix}\\right]$"
      ],
      "text/plain": [
       "Matrix([\n",
       "[1.0,   0],\n",
       "[  0, 1.0]])"
      ]
     },
     "metadata": {},
     "output_type": "display_data"
    },
    {
     "name": "stdout",
     "output_type": "stream",
     "text": [
      "H times H†:\n"
     ]
    },
    {
     "data": {
      "text/latex": [
       "$\\displaystyle \\left[\\begin{matrix}1.0 & 0\\\\0 & 1.0\\end{matrix}\\right]$"
      ],
      "text/plain": [
       "Matrix([\n",
       "[1.0,   0],\n",
       "[  0, 1.0]])"
      ]
     },
     "metadata": {},
     "output_type": "display_data"
    },
    {
     "name": "stdout",
     "output_type": "stream",
     "text": [
      "Hadamard gate on |0>: [0.70710678+0.j 0.70710678+0.j]\n"
     ]
    },
    {
     "data": {
      "text/latex": [
       "$\\displaystyle \\left[\\begin{matrix}0.7071\\\\0.7071\\end{matrix}\\right]$"
      ],
      "text/plain": [
       "Matrix([\n",
       "[0.7071],\n",
       "[0.7071]])"
      ]
     },
     "metadata": {},
     "output_type": "display_data"
    },
    {
     "name": "stdout",
     "output_type": "stream",
     "text": [
      "Hadamard gate on |1>: [ 0.70710678+0.j -0.70710678+0.j]\n"
     ]
    },
    {
     "data": {
      "text/latex": [
       "$\\displaystyle \\left[\\begin{matrix}0.7071\\\\-0.7071\\end{matrix}\\right]$"
      ],
      "text/plain": [
       "Matrix([\n",
       "[ 0.7071],\n",
       "[-0.7071]])"
      ]
     },
     "metadata": {},
     "output_type": "display_data"
    }
   ],
   "source": [
    "X = np.array([[0, 1],\n",
    "              [1, 0]], dtype=complex)\n",
    "\n",
    "Y = np.array([[0, -1j],\n",
    "              [1j, 0]], dtype=complex)\n",
    "\n",
    "Z = np.array([[1, 0],\n",
    "              [0, -1]], dtype=complex)\n",
    "\n",
    "H = 1/np.sqrt(2) * np.array([[1, 1],\n",
    "                             [1, -1]], dtype=complex)\n",
    "\n",
    "X_dagger = X.conj().T\n",
    "Y_dagger = Y.conj().T\n",
    "Z_dagger = Z.conj().T\n",
    "H_dagger = H.conj().T\n",
    "\n",
    "print(\"X times X†:\")\n",
    "display(sp.Matrix(np.dot(X, X_dagger)))\n",
    "print(\"Y times Y†:\")\n",
    "display(sp.Matrix(np.dot(Y, Y_dagger)))\n",
    "print(\"Z times Z†:\")\n",
    "display(sp.Matrix(np.dot(Z, Z_dagger)))\n",
    "print(\"H times H†:\")\n",
    "display(sp.Matrix(np.round(np.dot(H, H_dagger), 4)))\n",
    "\n",
    "# Hadamard Gate acting on |0>\n",
    "hadamard_on_zero = np.dot(H, zero_state)\n",
    "print(\"Hadamard gate on |0>:\", hadamard_on_zero)\n",
    "display(sp.Matrix(np.round(hadamard_on_zero, 4)))\n",
    "# Hadamard Gate acting on |1>\n",
    "hadamard_on_one = np.dot(H, one_state)\n",
    "print(\"Hadamard gate on |1>:\", hadamard_on_one)\n",
    "display(sp.Matrix(np.round(hadamard_on_one, 4)))"
   ]
  },
  {
   "cell_type": "markdown",
   "id": "b7784e2e",
   "metadata": {},
   "source": [
    "One can see that for each of these **gates**, the condition for **unitarity** holds.\n",
    "\n",
    "Furthermore, when applying **Hadamard gate** to the **zero state**, we get:\n",
    "\n",
    "$$\n",
    "H |0\\rangle = \\frac{1}{\\sqrt{2}} \\left( |0\\rangle + |1\\rangle \\right)\n",
    "$$\n",
    "\n",
    "This means that the **qubit** is now in an **equal superposition** of the $|0\\rangle$ and $|1\\rangle$ states, with a **50% probability** of measuring either state.\n",
    "This state is often referred to as the **$|+\\rangle$ state**.\n",
    "On the other hand, applying the **Hadamard gate** to the **one state** yields the **$|-\\rangle$ state**:"
   ]
  },
  {
   "cell_type": "markdown",
   "id": "20b7c54d",
   "metadata": {},
   "source": [
    "### Multi-Qubit Gates\n",
    "\n",
    "Up until now the different **qubits** have been independent of each other.\n",
    "However, **quantum mechanics** allows for a phenomenon called **entanglement**, where the state of one qubit is dependent on the state of another.\n",
    "This can be achieved using **multi-qubit gates**, such as the **CNOT (Controlled-NOT) gate**.\n",
    "\n",
    "- **CNOT Gate**: A two-qubit gate that flips the state of the **target qubit** if the **control qubit** is in the $|1\\rangle$ state.\n",
    "\n",
    "    $$\\text{CNOT} = \\begin{pmatrix} 1 & 0 & 0 & 0 \\\\ 0 & 1 & 0 & 0 \\\\ 0 & 0 & 0 & 1 \\\\ 0 & 0 & 1 & 0 \\end{pmatrix}$$"
   ]
  },
  {
   "cell_type": "code",
   "execution_count": 5,
   "id": "4503d742",
   "metadata": {},
   "outputs": [
    {
     "name": "stdout",
     "output_type": "stream",
     "text": [
      "CNOT times CNOT†:\n"
     ]
    },
    {
     "data": {
      "text/latex": [
       "$\\displaystyle \\left[\\begin{matrix}1.0 & 0 & 0 & 0\\\\0 & 1.0 & 0 & 0\\\\0 & 0 & 1.0 & 0\\\\0 & 0 & 0 & 1.0\\end{matrix}\\right]$"
      ],
      "text/plain": [
       "Matrix([\n",
       "[1.0,   0,   0,   0],\n",
       "[  0, 1.0,   0,   0],\n",
       "[  0,   0, 1.0,   0],\n",
       "[  0,   0,   0, 1.0]])"
      ]
     },
     "metadata": {},
     "output_type": "display_data"
    },
    {
     "name": "stdout",
     "output_type": "stream",
     "text": [
      "CNOT gate on |00>: [1.+0.j 0.+0.j 0.+0.j 0.+0.j]\n"
     ]
    },
    {
     "data": {
      "text/latex": [
       "$\\displaystyle \\left[\\begin{matrix}1.0\\\\0\\\\0\\\\0\\end{matrix}\\right]$"
      ],
      "text/plain": [
       "Matrix([\n",
       "[1.0],\n",
       "[  0],\n",
       "[  0],\n",
       "[  0]])"
      ]
     },
     "metadata": {},
     "output_type": "display_data"
    },
    {
     "name": "stdout",
     "output_type": "stream",
     "text": [
      "CNOT gate on |01>: [0.+0.j 1.+0.j 0.+0.j 0.+0.j]\n"
     ]
    },
    {
     "data": {
      "text/latex": [
       "$\\displaystyle \\left[\\begin{matrix}0\\\\1.0\\\\0\\\\0\\end{matrix}\\right]$"
      ],
      "text/plain": [
       "Matrix([\n",
       "[  0],\n",
       "[1.0],\n",
       "[  0],\n",
       "[  0]])"
      ]
     },
     "metadata": {},
     "output_type": "display_data"
    },
    {
     "name": "stdout",
     "output_type": "stream",
     "text": [
      "CNOT gate on |10>: [0.+0.j 0.+0.j 0.+0.j 1.+0.j]\n"
     ]
    },
    {
     "data": {
      "text/latex": [
       "$\\displaystyle \\left[\\begin{matrix}0\\\\0\\\\0\\\\1.0\\end{matrix}\\right]$"
      ],
      "text/plain": [
       "Matrix([\n",
       "[  0],\n",
       "[  0],\n",
       "[  0],\n",
       "[1.0]])"
      ]
     },
     "metadata": {},
     "output_type": "display_data"
    },
    {
     "name": "stdout",
     "output_type": "stream",
     "text": [
      "CNOT gate on |11>: [0.+0.j 0.+0.j 1.+0.j 0.+0.j]\n"
     ]
    },
    {
     "data": {
      "text/latex": [
       "$\\displaystyle \\left[\\begin{matrix}0\\\\0\\\\1.0\\\\0\\end{matrix}\\right]$"
      ],
      "text/plain": [
       "Matrix([\n",
       "[  0],\n",
       "[  0],\n",
       "[1.0],\n",
       "[  0]])"
      ]
     },
     "metadata": {},
     "output_type": "display_data"
    }
   ],
   "source": [
    "CNOT = np.array([[1, 0, 0, 0],\n",
    "                 [0, 1, 0, 0],\n",
    "                 [0, 0, 0, 1],\n",
    "                 [0, 0, 1, 0]], dtype=complex)\n",
    "\n",
    "CNOT_dagger = CNOT.conj().T\n",
    "print(\"CNOT times CNOT†:\")\n",
    "display(sp.Matrix(np.dot(CNOT, CNOT_dagger)))\n",
    "\n",
    "# CNOT gate acting on |00>\n",
    "cnot_on_00 = np.dot(CNOT, zero_tensor_zero)\n",
    "cnot_on_01 = np.dot(CNOT, zero_tensor_one)\n",
    "cnot_on_10 = np.dot(CNOT, one_tensor_zero)\n",
    "cnot_on_11 = np.dot(CNOT, one_tensor_one)\n",
    "\n",
    "print(\"CNOT gate on |00>:\", cnot_on_00)\n",
    "display(sp.Matrix(np.round(cnot_on_00, 4)))\n",
    "print(\"CNOT gate on |01>:\", cnot_on_01)\n",
    "display(sp.Matrix(np.round(cnot_on_01, 4)))\n",
    "print(\"CNOT gate on |10>:\", cnot_on_10)\n",
    "display(sp.Matrix(np.round(cnot_on_10, 4)))\n",
    "print(\"CNOT gate on |11>:\", cnot_on_11)\n",
    "display(sp.Matrix(np.round(cnot_on_11, 4)))"
   ]
  },
  {
   "cell_type": "markdown",
   "id": "37410522",
   "metadata": {},
   "source": [
    "Of course, the **unitary condition** also holds for **multi-qubit gates**.\n",
    "\n",
    "When looking at the state after applying a **CNOT gate** with the **first qubit as control** and the **second as target**, we can see that the **second qubit's state gets flipped** if the **first qubit is in the $|1\\rangle$ state**.\n",
    "\n",
    "Thus, in summary **CNOT** does the following transformations:\n",
    "\n",
    "$CNOT|00\\rangle \\rightarrow |00\\rangle$  \n",
    "$CNOT|01\\rangle \\rightarrow |01\\rangle$  \n",
    "$CNOT|10\\rangle \\rightarrow |11\\rangle$  \n",
    "$CNOT|11\\rangle \\rightarrow |10\\rangle$"
   ]
  },
  {
   "cell_type": "markdown",
   "id": "651869c7",
   "metadata": {},
   "source": [
    "## 5. Bloch Sphere\n",
    "\n",
    "A general **qubit state** can also be represented on the **Bloch sphere** by two angles, **$\\theta$** and **$\\phi$**:\n",
    "\n",
    "$$\n",
    "|\\psi\\rangle = \\cos\\left(\\frac{\\theta}{2}\\right)|0\\rangle + e^{i\\phi}\\sin\\left(\\frac{\\theta}{2}\\right)|1\\rangle\n",
    "$$"
   ]
  },
  {
   "cell_type": "code",
   "execution_count": 6,
   "id": "8186f419",
   "metadata": {},
   "outputs": [
    {
     "data": {
      "text/html": [
       "\n",
       "<table>\n",
       "    <tr>\n",
       "        <td><img src=\"images/bloch_sphere.png\" width=\"400\" height=\"400\"></td>\n",
       "        <td><img src=\"images/bloch_sphere_rotation.png\" width=\"400\" height=\"400\"></td>\n",
       "    </tr>\n",
       "</table>\n"
      ],
      "text/plain": [
       "<IPython.core.display.HTML object>"
      ]
     },
     "metadata": {},
     "output_type": "display_data"
    }
   ],
   "source": [
    "from IPython.display import display, HTML\n",
    "\n",
    "display(HTML(\"\"\"\n",
    "<table>\n",
    "    <tr>\n",
    "        <td><img src=\"images/bloch_sphere.png\" width=\"400\" height=\"400\"></td>\n",
    "        <td><img src=\"images/bloch_sphere_rotation.png\" width=\"400\" height=\"400\"></td>\n",
    "    </tr>\n",
    "</table>\n",
    "\"\"\"))"
   ]
  },
  {
   "cell_type": "markdown",
   "id": "38fff2db",
   "metadata": {},
   "source": [
    "When looking at the two images above, one can see that the angle **$\\theta$** represents the **polar angle** from the **positive z-axis**, while **$\\phi$** represents the **angle in the x-y plane** from the **positive x-axis**.\n",
    "\n",
    "With this representation in mind, we can see that:\n",
    "\n",
    "- The **north pole** (**$\\theta = 0$**) corresponds to the **$|0\\rangle$ state**.\n",
    "- The **south pole** (**$\\theta = \\pi$**) corresponds to the **$|1\\rangle$ state**.\n",
    "- Any point on the surface of the sphere represents a **valid qubit state** and if it is not on the poles, it is in a **superposition** of **$|0\\rangle$** and **$|1\\rangle$**.\n",
    "- **Pauli-X**, **Y**, and **Z gates** correspond to **rotations by $\\pi$** around the **x**, **y**, and **z axes**, respectively. (There are also **rotation gates** for arbitrary angles around these axes.)\n",
    "- The **Hadamard gate** acts on the **zero state** will move it to the **$|+\\rangle$ state**, which is located on the **equator** of the **Bloch sphere** at **$\\theta = \\frac{\\pi}{2}$** and **$\\phi = 0$**.\n",
    "\n",
    "Overall, the **Bloch sphere** provides a **powerful visual representation** of **qubit states** and the **effects of quantum gates**."
   ]
  },
  {
   "cell_type": "markdown",
   "id": "ab88ef91",
   "metadata": {},
   "source": [
    "## 6. Measurement\n",
    "\n",
    "**Measurement** is the process of extracting classical information from a quantum system. \n",
    "When a **qubit** is measured, it collapses from its **superposition** state to one of the **basis states**, either $|0\\rangle$ or $|1\\rangle$.\n",
    "\n",
    "The **probability** of measuring a particular state is determined by the **coefficients** of the superposition. For a qubit in the state:\n",
    "\n",
    "$$|\\psi\\rangle = \\alpha |0\\rangle + \\beta |1\\rangle$$\n",
    "\n",
    "the **probabilities** of measuring the states are given by:\n",
    "\n",
    "- **Probability** of measuring $|0\\rangle$: $P(0) = |\\alpha|^2$\n",
    "- **Probability** of measuring $|1\\rangle$: $P(1) = |\\beta|^2$"
   ]
  },
  {
   "cell_type": "code",
   "execution_count": 7,
   "id": "8d79bfdc",
   "metadata": {},
   "outputs": [
    {
     "name": "stdout",
     "output_type": "stream",
     "text": [
      "Probability of measuring |0> in state |ψ⟩ = (|0⟩ + |1⟩)/√2: 0.5\n",
      "Probability of measuring |1> in state |ψ⟩ = (|0⟩ + |1⟩)/√2: 0.5\n"
     ]
    }
   ],
   "source": [
    "# Probability of measuring |0> in state |ψ>\n",
    "def probability_of_zero(state):\n",
    "    amplitude_zero = state[0]\n",
    "    probability = np.abs(amplitude_zero)**2\n",
    "    return probability\n",
    "\n",
    "# Probability of measuring |1> in state |ψ>\n",
    "def probability_of_one(state):\n",
    "    amplitude_one = state[1]\n",
    "    probability = np.abs(amplitude_one)**2\n",
    "    return probability\n",
    "\n",
    "prob_zero = probability_of_zero(hadamard_on_zero)\n",
    "prob_one = probability_of_one(hadamard_on_zero)\n",
    "print(\"Probability of measuring |0> in state |ψ⟩ = (|0⟩ + |1⟩)/√2:\", np.round(prob_zero, 4))\n",
    "print(\"Probability of measuring |1> in state |ψ⟩ = (|0⟩ + |1⟩)/√2:\", np.round(prob_one, 4))"
   ]
  },
  {
   "cell_type": "markdown",
   "id": "6ff713cf",
   "metadata": {},
   "source": [
    "In the case of simulating **quantum circuits** on **classical computers**, we basically cheat because we can directly access the **state vector** and compute the **probabilities** without performing an actual **measurement**.\n",
    "\n",
    "However, in a real **quantum computer**, **measurement** is a physical process that typically involves interacting the **qubit** with a **measurement apparatus**, which causes the **collapse** of the state. Thus, we need to perform multiple **measurements** (or **shots**) to estimate the **probabilities** of the outcomes accurately."
   ]
  },
  {
   "cell_type": "code",
   "execution_count": 8,
   "id": "d5bb9087",
   "metadata": {},
   "outputs": [
    {
     "name": "stdout",
     "output_type": "stream",
     "text": [
      "Measurement results after 100: {'0': 51, '1': 49} estimated probabilities: 0.51 0.49\n",
      "Measurement results after 1000: {'0': 508, '1': 492} estimated probabilities: 0.508 0.492\n",
      "Measurement results after 10000: {'0': 4988, '1': 5012} estimated probabilities: 0.4988 0.5012\n"
     ]
    }
   ],
   "source": [
    "# Probability using shots\n",
    "def measure_state(state, shots):\n",
    "    prob_zero = probability_of_zero(state)\n",
    "    \n",
    "    counts_zero = np.random.binomial(shots, prob_zero)\n",
    "    counts_one = shots - counts_zero\n",
    "    \n",
    "    return {'0': counts_zero, '1': counts_one}\n",
    "\n",
    "hundred_shots = measure_state(hadamard_on_zero, 100)\n",
    "thousand_shots = measure_state(hadamard_on_zero, 1000)\n",
    "tenthousand_shots = measure_state(hadamard_on_zero, 10000)\n",
    "print(\"Measurement results after 100:\", hundred_shots, \"estimated probabilities:\", hundred_shots['0']/100, hundred_shots['1']/100)\n",
    "print(\"Measurement results after 1000:\", thousand_shots, \"estimated probabilities:\", thousand_shots['0']/1000, thousand_shots['1']/1000)\n",
    "print(\"Measurement results after 10000:\", tenthousand_shots, \"estimated probabilities:\", tenthousand_shots['0']/10000, tenthousand_shots['1']/10000)"
   ]
  },
  {
   "cell_type": "markdown",
   "id": "788de480",
   "metadata": {},
   "source": [
    "With increasing the number of **shots**, the estimated **probabilities** converge to the true probabilities defined by the **state vector**."
   ]
  },
  {
   "cell_type": "markdown",
   "id": "afcc8af8",
   "metadata": {},
   "source": [
    "## 7. Quantum Circuits\n",
    "\n",
    "To bring everything full circle, **quantum circuits** are a sequence of **quantum gates** applied to **qubits**, followed by **measurements**.\n",
    "A quantum circuit can be represented diagrammatically, where **qubits** are represented as horizontal lines, and **gates** are represented as symbols placed on these lines.\n",
    "\n",
    "We will use the python library **Pennylane** from here on out the course to implement **quantum circuits** and **algorithms**.\n",
    "\n",
    "For demonstration we will create a simple quantum circuit that prepares a **Bell state**, which is an **entangled state** of two qubits."
   ]
  },
  {
   "cell_type": "code",
   "execution_count": 9,
   "id": "38fef10b",
   "metadata": {},
   "outputs": [
    {
     "name": "stdout",
     "output_type": "stream",
     "text": [
      "0: ──H─╭●─┤  State\n",
      "1: ────╰X─┤  State\n",
      "Bell state vector: [0.7071+0.j 0.    +0.j 0.    +0.j 0.7071+0.j]\n"
     ]
    },
    {
     "data": {
      "text/latex": [
       "$\\displaystyle \\left[\\begin{matrix}0.7071\\\\0\\\\0\\\\0.7071\\end{matrix}\\right]$"
      ],
      "text/plain": [
       "Matrix([\n",
       "[0.7071],\n",
       "[     0],\n",
       "[     0],\n",
       "[0.7071]])"
      ]
     },
     "metadata": {},
     "output_type": "display_data"
    }
   ],
   "source": [
    "import pennylane as qml\n",
    "\n",
    "dev = qml.device(\"default.qubit\", wires=2)\n",
    "\n",
    "@qml.qnode(dev)\n",
    "def bell_state_circuit():\n",
    "    qml.Hadamard(wires=0)\n",
    "    qml.CNOT(wires=[0, 1])\n",
    "    return qml.state()\n",
    "\n",
    "# Draw the circuit\n",
    "drawer = qml.draw(bell_state_circuit)\n",
    "print(drawer())\n",
    "\n",
    "# Print the state vector\n",
    "state_vector = bell_state_circuit()\n",
    "print(\"Bell state vector:\", np.round(state_vector, 4))\n",
    "display(sp.Matrix(np.round(state_vector, 4)))"
   ]
  },
  {
   "cell_type": "markdown",
   "id": "d54b4311",
   "metadata": {},
   "source": [
    "So let's see what happened here:\n",
    "\n",
    "1. Start with two qubits in the **$|00\\rangle$ state**. \n",
    "$$ |00\\rangle = \\begin{pmatrix} 1 \\\\ 0 \\\\ 0 \\\\ 0 \\end{pmatrix} $$\n",
    "\n",
    "2. Apply a **Hadamard gate** to the first qubit. Since we are working with two qubits (and thus a 4-dimensional state vector), we can not just use the 2x2 Hadamard matrix. Instead, we need to **tensor** it with the **identity matrix** for the second qubit (in a quantum circuit, empty space is always filled with identity gates). \n",
    "$$\n",
    "H \\otimes I = \\frac{1}{\\sqrt{2}} \\begin{pmatrix}\n",
    "1 & 1 \\\\ 1 & -1\n",
    "\\end{pmatrix} \\otimes \\begin{pmatrix}\n",
    "1 & 0 \\\\ 0 & 1\n",
    "\\end{pmatrix}\n",
    "= \\frac{1}{\\sqrt{2}}\n",
    "\\begin{pmatrix}\n",
    "1 & 0 & 1 & 0 \\\\\n",
    "0 & 1 & 0 & 1 \\\\\n",
    "1 & 0 & -1 & 0 \\\\\n",
    "0 & 1 & 0 & -1\n",
    "\\end{pmatrix}\n",
    "$$ \n",
    "$$\n",
    "(H \\otimes I)|00\\rangle = \\frac{1}{\\sqrt{2}} \\begin{pmatrix} 1 \\\\ 0 \\\\ 1 \\\\ 0 \\end{pmatrix} = \\frac{1}{\\sqrt{2}} (|00\\rangle + |10\\rangle)\n",
    "$$\n",
    "\n",
    "3. Apply a **CNOT gate** with the first qubit as **control** and the second as **target**. The CNOT gate is already a 4x4 matrix, so we can apply it directly to the state vector.\n",
    "$$\n",
    "\\text{CNOT} = \\begin{pmatrix} 1 & 0 & 0 & 0 \\\\ 0 & 1 & 0 & 0 \\\\ 0 & 0 & 0 & 1 \\\\ 0 & 0 & 1 & 0 \\end{pmatrix}\n",
    "$$\n",
    "$$\n",
    "\\text{CNOT} \\left( \\frac{1}{\\sqrt{2}}\n",
    "\\begin{pmatrix} 1 \\\\ 0 \\\\ 1 \\\\ 0 \\end{pmatrix} \\right) = \\frac{1}{\\sqrt{2}} \\begin{pmatrix} 1 \\\\ 0 \\\\ 0 \\\\ 1 \\end{pmatrix} = \\frac{1}{\\sqrt{2}} (|00\\rangle + |11\\rangle)\n",
    "$$\n",
    "\n",
    "The resulting state **$\\frac{1}{\\sqrt{2}} (|00\\rangle + |11\\rangle)$** is one of the four **Bell states**, which are **maximally entangled states** of two qubits. In this state, if we **measure** the first qubit and find it in the **$|0\\rangle$ state**, the second qubit will also be in the **$|0\\rangle$ state**. Similarly, if we measure the first qubit and find it in the **$|1\\rangle$ state**, the second qubit will also be in the **$|1\\rangle$ state**. This **correlation** between the two qubits is a hallmark of **quantum entanglement**.\n",
    "\n",
    "Another interesting property of **entangled states** is that it cannot be factored into the **tensor product** of individual qubit states. In other words, there are no single-qubit states $|\\psi_1\\rangle$ and $|\\psi_2\\rangle$ such that:\n",
    "$$|\\psi\\rangle = |\\psi_1\\rangle \\otimes |\\psi_2\\rangle$$\n",
    "This is a key feature that distinguishes **entangled states** from **separable states** in quantum mechanics."
   ]
  }
 ],
 "metadata": {
  "kernelspec": {
   "display_name": "qc",
   "language": "python",
   "name": "python3"
  },
  "language_info": {
   "codemirror_mode": {
    "name": "ipython",
    "version": 3
   },
   "file_extension": ".py",
   "mimetype": "text/x-python",
   "name": "python",
   "nbconvert_exporter": "python",
   "pygments_lexer": "ipython3",
   "version": "3.10.18"
  }
 },
 "nbformat": 4,
 "nbformat_minor": 5
}
