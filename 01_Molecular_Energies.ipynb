{
 "cells": [
  {
   "cell_type": "markdown",
   "id": "d90aebbc",
   "metadata": {},
   "source": [
    "# Molecular Energies\n",
    "\n",
    "Let's see how we can use these abstract gates to model something from the real world like **molecular energies**. In **quantum chemistry**, the **energy levels** of electrons in a molecule can be represented using **quantum states**, and we can use **quantum gates** to manipulate these states."
   ]
  },
  {
   "cell_type": "markdown",
   "id": "ae342c3d",
   "metadata": {},
   "source": [
    "## 1. The Hamiltonian\n",
    "\n",
    "But first what is the **energy** of a molecule? In **quantum mechanics**, the energy of a system is described by an operator called the **Hamiltonian**.\n",
    "It is basically a sum of terms that represent different interactions within the molecule.\n",
    "\n",
    "The **Hamiltonian** can be expressed mathematically as:\n",
    "\n",
    "$$\\hat{H}_{tot} = \\hat{T}_N + \\hat{T}_e + \\hat{V}_{eN} + \\hat{V}_{NN} + \\hat{V}_{ee}$$\n",
    "\n",
    "Where:\n",
    "- $\\hat{T}_N$ is the **kinetic energy of the nuclei** (protons)\n",
    "- $\\hat{T}_e$ is the **kinetic energy of the electrons**\n",
    "- $\\hat{V}_{eN}$ is the **potential energy due to attraction between electrons and nuclei**\n",
    "- $\\hat{V}_{NN}$ is the **potential energy due to repulsion between nuclei**\n",
    "- $\\hat{V}_{ee}$ is the **potential energy due to repulsion between electrons**\n",
    "\n",
    "Usually, we simplify this **Hamiltonian** using the **Born-Oppenheimer approximation**, which assumes that the nuclei are stationary compared to the fast-moving electrons. This allows us to focus on the **electronic part of the Hamiltonian**:\n",
    "\n",
    "$$\\hat{H}_{elec} = \\hat{T}_e + \\hat{V}_{eN} + \\hat{V}_{ee}$$"
   ]
  },
  {
   "cell_type": "markdown",
   "id": "0764c1b1",
   "metadata": {},
   "source": [
    "### Hydrogen Molecule\n",
    "\n",
    "To have something to work with let's consider the simplest molecule, the **hydrogen molecule (H₂)**. It consists of two protons and two electrons. We will use **pennylane** to get the **Hamiltonian** for this molecule."
   ]
  },
  {
   "cell_type": "code",
   "execution_count": 1,
   "id": "6c2be150",
   "metadata": {},
   "outputs": [
    {
     "name": "stdout",
     "output_type": "stream",
     "text": [
      "Number of qubits: 4\n",
      "Hamiltonian:\n",
      "0.7784107516237684 * I([0, 1, 2, 3]) + 0.23718740030498442 * Z(0) + 0.23718740030498436 * Z(1) + 0.18456105296876102 * (Z(0) @ Z(1)) + -0.4612495707632222 * Z(2) + 0.14065700585010016 * (Z(0) @ Z(2)) + 0.18170118517545314 * (Z(1) @ Z(2)) + 0.04104417932535298 * (Y(0) @ X(1) @ X(2) @ Y(3)) + -0.04104417932535298 * (Y(0) @ Y(1) @ X(2) @ X(3)) + -0.04104417932535298 * (X(0) @ X(1) @ Y(2) @ Y(3)) + 0.04104417932535298 * (X(0) @ Y(1) @ Y(2) @ X(3)) + -0.46124957076322226 * Z(3) + 0.18170118517545314 * (Z(0) @ Z(3)) + 0.14065700585010016 * (Z(1) @ Z(3)) + 0.1917875056241911 * (Z(2) @ Z(3))\n",
      "Hartree-Fock state: [1 1 0 0]\n"
     ]
    }
   ],
   "source": [
    "# Building Hamiltonian for H₂ using pennylane\n",
    "import pennylane as qml\n",
    "from pennylane import numpy as pnp\n",
    "\n",
    "# Define the molecular parameters\n",
    "symbols = ['H', 'H']\n",
    "bond_length = 0.74  # in Angstroms\n",
    "geometry = pnp.array([[0.0, 0.0, 0.0],\n",
    "                      [0.0, 0.0, bond_length]], dtype=float)\n",
    "\n",
    "# Build molecule the qubit Hamiltonian\n",
    "h2_mol = qml.qchem.Molecule(\n",
    "    symbols=symbols,\n",
    "    coordinates=geometry,\n",
    "    charge=0,\n",
    "    mult=1,\n",
    "    basis_name='sto-3g',\n",
    ")\n",
    "H, n_qubits = qml.qchem.molecular_hamiltonian(\n",
    "    molecule=h2_mol,\n",
    "    mapping='jordan_wigner',\n",
    ")\n",
    "hf_state = qml.qchem.hf_state(\n",
    "    electrons=2, orbitals=n_qubits\n",
    ")\n",
    "\n",
    "print(\"Number of qubits:\", n_qubits)\n",
    "print(\"Hamiltonian:\")\n",
    "print(H)\n",
    "print(\"Hartree-Fock state:\", hf_state)"
   ]
  },
  {
   "cell_type": "markdown",
   "id": "6b45ed08",
   "metadata": {},
   "source": [
    "We can see that the **Hamiltonian** will need **four qubits** to represent the **two electrons** in **two different orbitals**. If we denote the qubits as follows:\n",
    "\n",
    "- **Qubit 0**: Spin up electron in orbital 1\n",
    "- **Qubit 1**: Spin down electron in orbital 1\n",
    "- **Qubit 2**: Spin up electron in orbital 2\n",
    "- **Qubit 3**: Spin down electron in orbital 2\n",
    "\n",
    "Of course, there are many ways to represent where the electrons are, but this is one common way called the **Jordan-Wigner mapping**.\n",
    "We will discuss this mapping in more detail later.\n",
    "For now, we will use the **Hartree-Fock state** as our initial state, meaning that we will put the two electrons in the lowest energy orbital.\n",
    "\n",
    "Note that there is this rule called the **Pauli exclusion principle**. \n",
    "It states that no two electrons can occupy the same quantum state simultaneously. \n",
    "This means that we cannot have more than two electrons in the same orbital, and if they are in the same orbital, they must have opposite spins. \n",
    "Thus, we will always just need two qubits per orbital.\n",
    "\n",
    "Now, to the most interesting part, the **Hamiltonian** for the **hydrogen molecule**.\n",
    "The Hamiltonian is an **observable**, meaning that it can be represented as a sum of **Pauli operators**.\n",
    "The specific Hamiltonian we see here is sort of a recipe for how to calculate the energy of the hydrogen molecule using quantum gates:\n",
    "\n",
    "- The first term `0.7784 * I([0, 1, 2, 3])` represents a **constant energy shift**. The `I` operator is the **identity operator**, which means it doesn't change the state of the qubits. This term just adds a constant value to the energy.\n",
    "- The second term `0.2371 * Z(0)` means that we measure **qubit 0** in the **Z-basis**. When measuring state $|0\\rangle$, we add $0.2371 \\cdot 1$ to the energy, and when measuring state $|1\\rangle$, we add $0.2371 \\cdot (-1)$ to the energy.\n",
    "- The third term is the same as the second term but for **qubit 1**.\n",
    "- As for the fourth term `0.1845 * (Z(0) @ Z(1))`, it means that we measure both **qubits 0 and 1** in the **Z-basis** and multiply the results. If both qubits are in state $|0\\rangle$, we add $0.1845 \\cdot 1 \\cdot 1$ to the energy. If qubit 0 is in state $|0\\rangle$ and qubit 1 is in state $|1\\rangle$, we add $0.1845 \\cdot 1 \\cdot (-1)$ to the energy, and so on for the other combinations.\n",
    "- When we see terms like `0.0410 * (Y(0) @ X(1) @ X(2) @ Y(3))`, it means that we measure **qubit 0** in the **Y-basis**, **qubit 1** in the **X-basis**, **qubit 2** in the **X-basis**, and **qubit 3** in the **Y-basis**, and then multiply the results together. Of course, we then multiply the result by the coefficient to get the contribution to the energy."
   ]
  },
  {
   "cell_type": "code",
   "execution_count": 2,
   "id": "c86c6556",
   "metadata": {},
   "outputs": [
    {
     "name": "stdout",
     "output_type": "stream",
     "text": [
      "Energy of the Hartree-Fock state: -0.8868310139707993\n"
     ]
    }
   ],
   "source": [
    "# Let's see how much energy the hydrogen molecule has with our initial state\n",
    "dev = qml.device('default.qubit', wires=n_qubits)\n",
    "@qml.qnode(dev)\n",
    "def energy_hf():\n",
    "    qml.BasisState(hf_state, wires=range(n_qubits))\n",
    "    return qml.expval(H)\n",
    "print(\"Energy of the Hartree-Fock state:\", energy_hf())"
   ]
  },
  {
   "cell_type": "markdown",
   "id": "649e00a1",
   "metadata": {},
   "source": [
    "The energy we get is about **-0.8868 Hartree**, which is a unit of energy commonly used in **quantum chemistry** (**1 Hartree** is approximately **27.2114 eV** or **4.3597e-18 Joules**)."
   ]
  },
  {
   "cell_type": "markdown",
   "id": "c39f00f1",
   "metadata": {},
   "source": [
    "## 2. From math to creation/annihilation operators\n",
    "\n",
    "Let's see how we actually get this **Hamiltonian** from the mathematical description of the hydrogen molecule, instead of just relying on **pennylane** to give it to us.\n",
    "\n",
    "The non-relativistic electronic **Hamiltonian** in second quantization is given by:\n",
    "\n",
    "$$\\hat{H} = E_{nuc} + \\sum_{pq} h_{pq} a_p^\\dagger a_q + \\frac{1}{2} \\sum_{pqrs} h_{pqrs} a_p^\\dagger a_q^\\dagger a_r a_s$$\n",
    "\n",
    "Where:\n",
    "- $E_{nuc}$ is the **nuclear repulsion energy** (constant because we assume the nuclei are stationary)\n",
    "- $h_{pq}$ are the **one-electron integrals** (**kinetic** & **electron-nuclear attraction**). What it does is to sum over all pairs of orbitals (p, q) and calculate the contribution to the energy from an electron moving from orbital q to orbital p. $a_p^\\dagger$ **creates** an electron in orbital p, and $a_q$ **annihilates** (removes) an electron from orbital q.\n",
    "- $h_{pqrs}$ are the **two-electron integrals** (**electron-electron repulsion**). This term sums over all combinations of four orbitals (p, q, r, s) and calculates the contribution to the energy from two electrons interacting with each other while moving between these orbitals. $a_p^\\dagger$ and $a_q^\\dagger$ **create** electrons in orbitals p and q, while $a_r$ and $a_s$ **annihilate** electrons in orbitals r and s. The factor of $\\frac{1}{2}$ is included to avoid double-counting the interactions between pairs of electrons.\n",
    "\n",
    "So in summary, this **Hamiltonian** describes the total energy of a system of electrons in a molecule by considering their **kinetic energy**, their **attraction to the nuclei**, and their **repulsion from each other**.\n",
    "\n",
    "**Pennylane** uses classical computational chemistry software to calculate the integrals $h_{pq}$ and $h_{pqrs}$, and then constructs the **Hamiltonian** using these integrals. Then it uses a mapping (like **Jordan-Wigner**) to convert the **creation** and **annihilation operators** into **qubit operators** (**Pauli matrices**). This will be the topic of the next section."
   ]
  },
  {
   "cell_type": "code",
   "execution_count": 3,
   "id": "52b16ec1",
   "metadata": {},
   "outputs": [
    {
     "name": "stdout",
     "output_type": "stream",
     "text": [
      "Core constant (E_nuc):\n",
      "   0.715104339058\n",
      "\n",
      "One-electron integrals h[p,q]:\n",
      "  h[0,0] = -1.253309783263\n",
      "  h[0,1] =  0.000000000000\n",
      "  h[1,0] =  0.000000000000\n",
      "  h[1,1] = -0.475068847654\n",
      "\n",
      "Two-electron integrals h[p,q,r,s] (omitting ~0 terms):\n",
      "  h[0,0,0,0] =  0.674755922309\n",
      "  h[0,0,1,1] =  0.181210458478\n",
      "  h[0,1,0,1] =  0.181210458478\n",
      "  h[0,1,1,0] =  0.663711389773\n",
      "  h[1,0,0,1] =  0.663711389773\n",
      "  h[1,0,1,0] =  0.181210458478\n",
      "  h[1,1,0,0] =  0.181210458478\n",
      "  h[1,1,1,1] =  0.697651485023\n"
     ]
    }
   ],
   "source": [
    "# Compute the core constant and the one- and two-electron integrals\n",
    "# Running on a different h2 object to avoid changing or\n",
    "symbols  = ['H', 'H']\n",
    "geometry = pnp.array([[0.0, 0.0, 0.0], [0.0, 0.0, 0.74]], requires_grad = False)\n",
    "alpha = pnp.array([[3.42525091, 0.62391373, 0.1688554],\n",
    "                  [3.42525091, 0.62391373, 0.1688554]], requires_grad=True)\n",
    "mol = qml.qchem.Molecule(symbols, geometry, alpha=alpha, unit='Angstrom')\n",
    "args = [alpha]\n",
    "\n",
    "E_core, h1, h2 = qml.qchem.electron_integrals(mol)(*args)\n",
    "\n",
    "print(\"Core constant (E_nuc):\")\n",
    "print(f\"  {E_core[0]: .12f}\")\n",
    "\n",
    "print(\"\\nOne-electron integrals h[p,q]:\")\n",
    "for p in range(h1.shape[0]):\n",
    "    for q in range(h1.shape[1]):\n",
    "        val = h1[p, q]\n",
    "        if abs(val) < 1e-12:\n",
    "            val = 0.0\n",
    "        print(f\"  h[{p},{q}] = {val: .12f}\")\n",
    "\n",
    "print(\"\\nTwo-electron integrals h[p,q,r,s] (omitting ~0 terms):\")\n",
    "for p in range(h2.shape[0]):\n",
    "    for q in range(h2.shape[1]):\n",
    "        for r in range(h2.shape[2]):\n",
    "            for s in range(h2.shape[3]):\n",
    "                val = h2[p, q, r, s]\n",
    "                if abs(val) < 1e-12:\n",
    "                    continue\n",
    "                print(f\"  h[{p},{q},{r},{s}] = {val: .12f}\")"
   ]
  },
  {
   "cell_type": "markdown",
   "id": "922c4868",
   "metadata": {},
   "source": [
    "### Quick analysis of the core constant and the one-/two-electron integrals\n",
    "\n",
    "#### Core constant (**nuclear repulsion**)\n",
    "- $E_{\\mathrm{nuc}} = 0.715104339058$ — positive **nucleus–nucleus Coulomb repulsion**; an additive energy shift.\n",
    "\n",
    "#### One-electron integrals $h_{pq} = \\langle p \\mid T + V_{\\mathrm{nuc}} \\mid q \\rangle$\n",
    "- $h_{00} = -1.253309783263$  \n",
    "- $h_{01} = h_{10} = 0.000000000000$  \n",
    "- $h_{11} = -0.475068847654$\n",
    "\n",
    "**Interpretation**\n",
    "- **Diagonals** are orbital core (**kinetic** + **electron–nucleus**) energies.  \n",
    "- **Off-diagonals** vanish **by symmetry**.\n",
    "\n",
    "#### Two-electron integrals $h_{pqrs} = (pq|rs)$ (**electron–electron repulsion**)\n",
    "Non-negligible terms:\n",
    "- $h_{0000} = 0.674755922309$  \n",
    "- $h_{0011} = h_{1100} = 0.181210458478$  \n",
    "- $h_{0101} = h_{1010} = 0.181210458478$  \n",
    "- $h_{0110} = h_{1001} = 0.663711389773$  \n",
    "- $h_{1111} = 0.697651485023$\n",
    "\n",
    "**Interpretation**\n",
    "- $h_{0000},\\, h_{1111}$: **on-orbital (opposite-spin) Coulomb repulsion** for double occupancy.  \n",
    "- $h_{0011} = h_{1100} = (00|11) \\equiv \\mathbf{J_{01}}$ : **direct (Coulomb) interaction** between the densities of orbitals 0 and 1.  \n",
    "- $h_{0110} = h_{1001} = (01|10) \\equiv \\mathbf{K_{01}}$ : **exchange** interaction between orbitals 0 and 1 (distinct from $\\mathbf{J_{01}}$); in minimal bases it can be comparable to—or larger than—$\\mathbf{J_{01}}$.  \n",
    "- $h_{0101} = h_{1010} = (01|01)$: **transition-density Coulomb** integral (not $\\mathbf{J_{01}}$); appears in response/correlation contexts."
   ]
  },
  {
   "cell_type": "markdown",
   "id": "834f37cc",
   "metadata": {},
   "source": [
    "# 3. From **creation/annihilation operators** to **qubit operators**\n",
    "\n",
    "In this section, we will discuss how to convert the **fermionic creation** and **annihilation operators** into **qubit operators** using the **Jordan-Wigner transformation**.\n",
    "There are other transformations like the **Bravyi-Kitaev transformation**, but we will focus on **Jordan-Wigner** for simplicity.\n",
    "\n",
    "As mentioned earlier, we have $a_p^\\dagger$ and $a_p$ as the **creation** and **annihilation operators** for **fermions** (**electrons**).\n",
    "These operators of course have to obey the **anti-commutation relations**:\n",
    "\n",
    "1. $\\{a_p, a_q^\\dagger\\} = a_p a_q^\\dagger + a_q^\\dagger a_p = \\delta_{pq}$\n",
    "2. $\\{a_p, a_q\\} = a_p a_q + a_q a_p = 0$\n",
    "3. $\\{a_p^\\dagger, a_q^\\dagger\\} = a_p^\\dagger a_q^\\dagger + a_q^\\dagger a_p^\\dagger = 0$\n",
    "\n",
    "Where $\\delta_{pq}$ is the **Kronecker delta**, which is 1 if p=q and 0 otherwise. $\\{...,...\\}$ denotes the **anti-commutator**. There is also $[...,...]$ which denotes the **commutator** with a minus instead of a plus, but we won't need that here.\n",
    "\n",
    "The first relation creates a particle in state q and then annihilates it in state p, and vice versa. If p=q, we get 1, otherwise 0. This is exactly what we want. The other two relations are just restrictions that ensure that we cannot create or annihilate two particles in the same state.\n",
    "\n",
    "The **Jordan-Wigner transformation** of course preserves these **anti-commutation relations** and is given by:\n",
    "\n",
    "$$a_p = \\left( \\prod_{j=0}^{p-1} Z_j \\right) \\frac{X_p + iY_p}{2}$$\n",
    "$$a_p^\\dagger = \\left( \\prod_{j=0}^{p-1} Z_j \\right) \\frac{X_p - iY_p}{2}$$\n",
    "\n",
    "Where $X_p$, $Y_p$, and $Z_p$ are the **Pauli operators** acting on qubit p.\n",
    "\n",
    "This does look like a big overhead for just moving an electron from one orbital to another, but it is necessary to ensure that the **fermionic nature** of electrons is preserved in the **qubit representation**."
   ]
  },
  {
   "cell_type": "code",
   "execution_count": 4,
   "id": "a576b3db",
   "metadata": {},
   "outputs": [
    {
     "name": "stdout",
     "output_type": "stream",
     "text": [
      "Annihilator on qubit 0: 0.5 * (X(0) + 1j * Y(0))\n",
      "Creator on qubit 2: Z(1) @ Z(0) @ (0.5 * (X(2) + (-0-1j) * Y(2)))\n",
      "Move operator: Z(1) @ Z(0) @ (0.5 * (X(2) + (-0-1j) * Y(2))) @ (0.5 * (X(0) + 1j * Y(0)))\n",
      "Initial state:\n"
     ]
    },
    {
     "data": {
      "text/latex": [
       "$\\displaystyle \\left[\\begin{matrix}0\\\\0\\\\0\\\\0\\\\0\\\\0\\\\0\\\\0\\\\0\\\\0\\\\0\\\\0\\\\1.0\\\\0\\\\0\\\\0\\end{matrix}\\right]$"
      ],
      "text/plain": [
       "Matrix([\n",
       "[  0],\n",
       "[  0],\n",
       "[  0],\n",
       "[  0],\n",
       "[  0],\n",
       "[  0],\n",
       "[  0],\n",
       "[  0],\n",
       "[  0],\n",
       "[  0],\n",
       "[  0],\n",
       "[  0],\n",
       "[1.0],\n",
       "[  0],\n",
       "[  0],\n",
       "[  0]])"
      ]
     },
     "metadata": {},
     "output_type": "display_data"
    },
    {
     "name": "stdout",
     "output_type": "stream",
     "text": [
      "|1100> for reference:\n"
     ]
    },
    {
     "data": {
      "text/latex": [
       "$\\displaystyle \\left[\\begin{matrix}0\\\\0\\\\0\\\\0\\\\0\\\\0\\\\0\\\\0\\\\0\\\\0\\\\0\\\\0\\\\1.0\\\\0\\\\0\\\\0\\end{matrix}\\right]$"
      ],
      "text/plain": [
       "Matrix([\n",
       "[  0],\n",
       "[  0],\n",
       "[  0],\n",
       "[  0],\n",
       "[  0],\n",
       "[  0],\n",
       "[  0],\n",
       "[  0],\n",
       "[  0],\n",
       "[  0],\n",
       "[  0],\n",
       "[  0],\n",
       "[1.0],\n",
       "[  0],\n",
       "[  0],\n",
       "[  0]])"
      ]
     },
     "metadata": {},
     "output_type": "display_data"
    },
    {
     "name": "stdout",
     "output_type": "stream",
     "text": [
      "State after moving electron:\n"
     ]
    },
    {
     "data": {
      "text/latex": [
       "$\\displaystyle \\left[\\begin{matrix}0\\\\0\\\\0\\\\0\\\\0\\\\0\\\\-1.0\\\\0\\\\0\\\\0\\\\0\\\\0\\\\0\\\\0\\\\0\\\\0\\end{matrix}\\right]$"
      ],
      "text/plain": [
       "Matrix([\n",
       "[   0],\n",
       "[   0],\n",
       "[   0],\n",
       "[   0],\n",
       "[   0],\n",
       "[   0],\n",
       "[-1.0],\n",
       "[   0],\n",
       "[   0],\n",
       "[   0],\n",
       "[   0],\n",
       "[   0],\n",
       "[   0],\n",
       "[   0],\n",
       "[   0],\n",
       "[   0]])"
      ]
     },
     "metadata": {},
     "output_type": "display_data"
    },
    {
     "name": "stdout",
     "output_type": "stream",
     "text": [
      "-|0110> for reference:\n"
     ]
    },
    {
     "data": {
      "text/latex": [
       "$\\displaystyle \\left[\\begin{matrix}0\\\\0\\\\0\\\\0\\\\0\\\\0\\\\-1.0\\\\0\\\\0\\\\0\\\\0\\\\0\\\\0\\\\0\\\\0\\\\0\\end{matrix}\\right]$"
      ],
      "text/plain": [
       "Matrix([\n",
       "[   0],\n",
       "[   0],\n",
       "[   0],\n",
       "[   0],\n",
       "[   0],\n",
       "[   0],\n",
       "[-1.0],\n",
       "[   0],\n",
       "[   0],\n",
       "[   0],\n",
       "[   0],\n",
       "[   0],\n",
       "[   0],\n",
       "[   0],\n",
       "[   0],\n",
       "[   0]])"
      ]
     },
     "metadata": {},
     "output_type": "display_data"
    },
    {
     "name": "stdout",
     "output_type": "stream",
     "text": [
      "Energy of moved state: 0.4841505516815221\n"
     ]
    }
   ],
   "source": [
    "import sympy as sp\n",
    "def build_annihilator(p, n_qubits):\n",
    "    \"\"\"Build the annihilation operator for qubit p using Jordan-Wigner transformation.\"\"\"\n",
    "    op = (qml.PauliX(p) + 1j * qml.PauliY(p)) / 2\n",
    "    for j in range(p):\n",
    "        op = qml.PauliZ(j) @ op\n",
    "    return op\n",
    "\n",
    "def build_creator(q, n_qubits):\n",
    "    \"\"\"Build the creation operator for qubit q using Jordan-Wigner transformation.\"\"\"\n",
    "    op = (qml.PauliX(q) - 1j * qml.PauliY(q)) / 2\n",
    "    for j in range(q):\n",
    "        op = qml.PauliZ(j) @ op\n",
    "    return op\n",
    "\n",
    "# Move the spin-up electron from first to second orbital\n",
    "# Annihilate on qubit 0, create on qubit 2\n",
    "anihilator_qubit_0 = build_annihilator(0, n_qubits)\n",
    "creator_qubit_2 = build_creator(2, n_qubits)\n",
    "print(\"Annihilator on qubit 0:\", anihilator_qubit_0)\n",
    "print(\"Creator on qubit 2:\", creator_qubit_2)\n",
    "\n",
    "# The full move operator is creator @ annihilator\n",
    "move_op = creator_qubit_2 @ anihilator_qubit_0\n",
    "print(\"Move operator:\", move_op)\n",
    "\n",
    "# Big-endian basis vector: wire 0 is MSB\n",
    "def basis_ket(bits):\n",
    "    vec = pnp.zeros(2**len(bits), dtype=complex)\n",
    "    idx = int(''.join(str(int(b)) for b in bits), 2)\n",
    "    vec[idx] = 1.0\n",
    "    return vec\n",
    "\n",
    "# Rebuild |hf> and apply the previously computed operator matrix U\n",
    "psi0 = basis_ket(hf_state)\n",
    "U = qml.matrix(move_op, wire_order=range(n_qubits))\n",
    "psi1 = U @ psi0\n",
    "\n",
    "# Inspect the result\n",
    "print(\"Initial state:\")\n",
    "display(sp.Matrix(psi0))\n",
    "print(\"|1100> for reference:\")\n",
    "display(sp.Matrix(basis_ket([1, 1, 0, 0])))\n",
    "print(\"State after moving electron:\")\n",
    "display(sp.Matrix(psi1))\n",
    "print(\"-|0110> for reference:\")\n",
    "display(-sp.Matrix(basis_ket([0, 1, 1, 0])))\n",
    "\n",
    "# Energy of the moved configuration\n",
    "Hmat = qml.matrix(H, wire_order=range(n_qubits))\n",
    "E_moved = (psi1.conj() @ Hmat @ psi1).real # <psi1|H|psi1>\n",
    "print(\"Energy of moved state:\", E_moved)"
   ]
  },
  {
   "cell_type": "markdown",
   "id": "d6a187f8",
   "metadata": {},
   "source": [
    "Since we are working with four qubits, our state vector has $2^4 = 16$ possible states. In the **Hartree-Fock state**, we have two electrons in the lowest energy orbital, which corresponds to index **12** (binary **1100**) of the state vector.\n",
    "\n",
    "After creating our **annihilation operator** on qubit 0 and our **creation operator** on qubit 2, turning them into a valid **unitary** and applying them to the Hartree-Fock state, we get the new state vector with maximum amplitude at index **6** (binary **0110**). Notice that the sign of the amplitude has changed, which is a result of the **anti-commutation relations**. This is not just a quirk of the **Jordan-Wigner transformation**, but a fundamental property of **fermions**, as exchanging two fermions results in a change of sign of the wavefunction. Digging deeper into this topic would lead us astray, so we will leave it at that for now.\n",
    "\n",
    "The resulting **energy** of this new state is about **0.4842 Hartree**, which is much higher than the energy of the Hartree-Fock state (**-0.8868 Hartree**). This makes sense, as we have moved an electron to a higher energy orbital. When taking a look into the code we can see that the energy is calculated by taking the **expectation value** of the **Hamiltonian** with respect to the new state:\n",
    "\n",
    "$$E = \\langle \\psi | \\hat{H} | \\psi \\rangle$$\n",
    "\n",
    "We also did this earlier when calculating the energy of the Hartree-Fock state with `qml.expval(H)`."
   ]
  },
  {
   "cell_type": "markdown",
   "id": "ff2076c8",
   "metadata": {},
   "source": [
    "## 4. Getting closer to the ground state\n",
    "\n",
    "One might think that when we move an electron to a higher energy orbital, we are moving away from the ground state. This is true, but what if we move it back again? Or even better, what if we create a superposition of states where the electron is in both orbitals at the same time? This is where quantum mechanics gets really interesting.\n",
    "\n",
    "Let's see if we can get a lower engergy than the hartree-fock state by creating a superposition of states."
   ]
  },
  {
   "cell_type": "code",
   "execution_count": 5,
   "id": "6f2dc512",
   "metadata": {},
   "outputs": [
    {
     "name": "stdout",
     "output_type": "stream",
     "text": [
      "Hartree-Fock state energy: -0.8868310139707993\n",
      "Optimized energy: -0.8962427852505137\n",
      "Energy improvement: 0.009411771279714376\n",
      "State after optimization:\n"
     ]
    },
    {
     "data": {
      "text/latex": [
       "$\\displaystyle \\left[\\begin{matrix}0\\\\0\\\\0\\\\-0.0499791692706783\\\\0\\\\0\\\\0\\\\0\\\\0\\\\0\\\\0\\\\0\\\\0.998750260394966\\\\0\\\\0\\\\0\\end{matrix}\\right]$"
      ],
      "text/plain": [
       "Matrix([\n",
       "[                  0],\n",
       "[                  0],\n",
       "[                  0],\n",
       "[-0.0499791692706783],\n",
       "[                  0],\n",
       "[                  0],\n",
       "[                  0],\n",
       "[                  0],\n",
       "[                  0],\n",
       "[                  0],\n",
       "[                  0],\n",
       "[                  0],\n",
       "[  0.998750260394966],\n",
       "[                  0],\n",
       "[                  0],\n",
       "[                  0]])"
      ]
     },
     "metadata": {},
     "output_type": "display_data"
    }
   ],
   "source": [
    "@qml.qnode(dev)\n",
    "def energy_superposition():\n",
    "    qml.BasisState(hf_state, wires=range(n_qubits))\n",
    "    qml.DoubleExcitation(0.1, wires=[0, 1, 2, 3])\n",
    "    return qml.expval(H), qml.state()\n",
    "print(\"Hartree-Fock state energy:\", energy_hf())\n",
    "energy_superposition, state_superposition = energy_superposition()\n",
    "print(\"Optimized energy:\", energy_superposition)\n",
    "print(\"Energy improvement:\", energy_hf() - energy_superposition)\n",
    "print(\"State after optimization:\")\n",
    "display(sp.Matrix(state_superposition))"
   ]
  },
  {
   "cell_type": "markdown",
   "id": "670659bc",
   "metadata": {},
   "source": [
    "We managed to get a lower energy by creating a **superposition of states** using a **double excitation operator**. The double excitation operator is given by:\n",
    "\n",
    "$$\\hat{U}(\\theta) = e^{-i \\frac{\\theta}{2} (a_2^\\dagger a_3^\\dagger a_1 a_0 + a_0^\\dagger a_1^\\dagger a_3 a_2)}$$\n",
    "\n",
    "Where **$\\theta$** is a parameter that we can vary to find the optimal superposition. The **creation** and **annihilation operators** are the same as before. It is important to note that we turn the operator into a valid **unitary** using the **exponential map**, as we did before with the **single excitation operator**.\n",
    "\n",
    "In the **state vector**, we can see that the amplitude of **$|1100\\rangle$** (index **12**) is still the highest, but now we also have some amplitude at **$|0011\\rangle$** (index **3**). This means that we have created a **superposition of states** where the electrons are in both orbitals at the same time. This is why in the unitary we have both the term **$a_2^\\dagger a_3^\\dagger a_1 a_0$** which moves the electrons from orbital 1 to orbital 2, and the term **$a_0^\\dagger a_1^\\dagger a_3 a_2$** which moves them back again.\n",
    "\n",
    "And why is it that we get a **lower energy**? The reason is that we must also take into account the **electron-electron repulsion** term in the **Hamiltonian**. If we were to consider only the **nuclear attraction** and **kinetic energy** terms, moving an electron to a higher energy orbital would always increase the energy. However, by creating a **superposition of states**, we can reduce the overall **electron-electron repulsion**, which can lead to a lower total energy.\n",
    "\n",
    "Finding the optimal value of **$\\theta$** is rather tedious to do by hand, so in the next notebook we will take a look at something called the **Variational Quantum Eigensolver (VQE)** which will help us find the optimal parameters to get as close as possible to the **ground state energy** of the molecule."
   ]
  }
 ],
 "metadata": {
  "kernelspec": {
   "display_name": "qc",
   "language": "python",
   "name": "python3"
  },
  "language_info": {
   "codemirror_mode": {
    "name": "ipython",
    "version": 3
   },
   "file_extension": ".py",
   "mimetype": "text/x-python",
   "name": "python",
   "nbconvert_exporter": "python",
   "pygments_lexer": "ipython3",
   "version": "3.10.18"
  }
 },
 "nbformat": 4,
 "nbformat_minor": 5
}
