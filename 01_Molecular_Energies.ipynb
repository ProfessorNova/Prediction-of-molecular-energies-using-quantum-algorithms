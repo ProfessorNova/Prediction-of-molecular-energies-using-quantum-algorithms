{
 "cells": [
  {
   "cell_type": "markdown",
   "id": "d90aebbc",
   "metadata": {},
   "source": [
    "# Molecular Energies\n",
    "\n",
    "Let's see how we can use these abstract gates to model something from the real world like molecular energies. In quantum chemistry, the energy levels of electrons in a molecule can be represented using quantum states, and we can use quantum gates to manipulate these states."
   ]
  },
  {
   "cell_type": "markdown",
   "id": "ae342c3d",
   "metadata": {},
   "source": [
    "## 1. The Hamiltonian\n",
    "\n",
    "But first what is the energy of a molecule? In quantum mechanics, the energy of a system is described by an operator called the Hamiltonian.\n",
    "It is basically a sum of terms that represent different interactions within the molecule.\n",
    "\n",
    "The Hamiltonian can be expressed mathematically as:\n",
    "\n",
    "$$\\hat{H}_{tot} = \\hat{T}_N + \\hat{T}_e + \\hat{V}_{eN} + \\hat{V}_{NN} + \\hat{V}_{ee}$$\n",
    "\n",
    "Where:\n",
    "- $\\hat{T}_N$ is the kinetic energy of the nuclei (protons)\n",
    "- $\\hat{T}_e$ is the kinetic energy of the electrons\n",
    "- $\\hat{V}_{eN}$ is the potential energy due to attraction between electrons and nuclei\n",
    "- $\\hat{V}_{NN}$ is the potential energy due to repulsion between nuclei\n",
    "- $\\hat{V}_{ee}$ is the potential energy due to repulsion between electrons\n",
    "\n",
    "Usually, we simplify this Hamiltonian using the Born-Oppenheimer approximation, which assumes that the nuclei are stationary compared to the fast-moving electrons. This allows us to focus on the electronic part of the Hamiltonian:\n",
    "\n",
    "$$\\hat{H}_{elec} = \\hat{T}_e + \\hat{V}_{eN} + \\hat{V}_{ee}$$"
   ]
  },
  {
   "cell_type": "markdown",
   "id": "0764c1b1",
   "metadata": {},
   "source": [
    "### Hydrogen Molecule\n",
    "\n",
    "To have something to work with let's consider the simplest molecule, the hydrogen molecule (H₂). It consists of two protons and two electrons. We will use pennylane to get the Hamiltonian for this molecule."
   ]
  },
  {
   "cell_type": "code",
   "execution_count": 1,
   "id": "6c2be150",
   "metadata": {},
   "outputs": [
    {
     "name": "stdout",
     "output_type": "stream",
     "text": [
      "Number of qubits: 4\n",
      "Hamiltonian:\n",
      "0.7784107516237684 * I([0, 1, 2, 3]) + 0.23718740030498442 * Z(0) + 0.23718740030498436 * Z(1) + 0.18456105296876102 * (Z(0) @ Z(1)) + -0.4612495707632222 * Z(2) + 0.14065700585010016 * (Z(0) @ Z(2)) + 0.18170118517545314 * (Z(1) @ Z(2)) + 0.04104417932535298 * (Y(0) @ X(1) @ X(2) @ Y(3)) + -0.04104417932535298 * (Y(0) @ Y(1) @ X(2) @ X(3)) + -0.04104417932535298 * (X(0) @ X(1) @ Y(2) @ Y(3)) + 0.04104417932535298 * (X(0) @ Y(1) @ Y(2) @ X(3)) + -0.46124957076322226 * Z(3) + 0.18170118517545314 * (Z(0) @ Z(3)) + 0.14065700585010016 * (Z(1) @ Z(3)) + 0.1917875056241911 * (Z(2) @ Z(3))\n",
      "Hartree-Fock state: [1 1 0 0]\n"
     ]
    }
   ],
   "source": [
    "# Building Hamiltonian for H₂ using pennylane\n",
    "import pennylane as qml\n",
    "from pennylane import numpy as pnp\n",
    "\n",
    "# Define the molecular parameters\n",
    "symbols = ['H', 'H']\n",
    "bond_length = 0.74  # in Angstroms\n",
    "geometry = pnp.array([[0.0, 0.0, 0.0],\n",
    "                      [0.0, 0.0, bond_length]], dtype=float)\n",
    "\n",
    "# Build molecule the qubit Hamiltonian\n",
    "h2_mol = qml.qchem.Molecule(\n",
    "    symbols=symbols,\n",
    "    coordinates=geometry,\n",
    "    charge=0,\n",
    "    mult=1,\n",
    "    basis_name='sto-3g',\n",
    ")\n",
    "H, n_qubits = qml.qchem.molecular_hamiltonian(\n",
    "    molecule=h2_mol,\n",
    "    mapping='jordan_wigner',\n",
    ")\n",
    "hf_state = qml.qchem.hf_state(\n",
    "    electrons=2, orbitals=n_qubits\n",
    ")\n",
    "\n",
    "print(\"Number of qubits:\", n_qubits)\n",
    "print(\"Hamiltonian:\")\n",
    "print(H)\n",
    "print(\"Hartree-Fock state:\", hf_state)"
   ]
  },
  {
   "cell_type": "markdown",
   "id": "6b45ed08",
   "metadata": {},
   "source": [
    "We can see that the Hamiltonian will need four qubits to represent the two electrons in two different orbitals. If we denote the qubits as follows:\n",
    "\n",
    "- Qubit 0: Spin up electron in orbital 1\n",
    "- Qubit 1: Spin down electron in orbital 1\n",
    "- Qubit 2: Spin up electron in orbital 2\n",
    "- Qubit 3: Spin down electron in orbital 2\n",
    "\n",
    "Of course, there are many ways to represent where the electrons are, but this is one common way called the Jordan-Wigner mapping.\n",
    "We will discuss this mapping in more detail later.\n",
    "For now, we will use the hartree-fock state as our initial state, meaning that we will put the two electrons in the lowest energy orbital.\n",
    "\n",
    "Note that there is this rule called the Pauli exclusion principle. \n",
    "It states that no two electrons can occupy the same quantum state simultaneously. \n",
    "This means that we cannot have more than two electrons in the same orbital, and if they are in the same orbital, they must have opposite spins. \n",
    "Thus, we will always just need two qubits per orbital.\n",
    "\n",
    "Now, to the most interesting part, the Hamiltonian for the hydrogen molecule.\n",
    "The Hamiltonian is a observable, meaning that it can be represented as a sum of Pauli operators.\n",
    "The specific Hamiltonian we see here is sort of a recipe for how to calculate the energy of the hydrogen molecule using quantum gates:\n",
    "\n",
    "- The first term `0.7784 * I([0, 1, 2, 3])` represents a constant energy shift. The `I` operator is the identity operator, which means it doesn't change the state of the qubits. This term just adds a constant value to the energy.\n",
    "- The second term `0.2371 * Z(0)` means that we measure qubit 0 in the Z-basis. When measuring state $|0\\rangle$, we add $0.2371 \\cdot 1$ to the energy, and when measuring state $|1\\rangle$, we add $0.2371 \\cdot (-1)$ to the energy.\n",
    "- The third term is the same as the second term but for qubit 1.\n",
    "- As for the fourth term `0.1845 * (Z(0) @ Z(1))`, it means that we measure both qubits 0 and 1 in the Z-basis and multiply the results. If both qubits are in state $|0\\rangle$, we add $0.1845 \\cdot 1 \\cdot 1$ to the energy. If qubit 0 is in state $|0\\rangle$ and qubit 1 is in state $|1\\rangle$, we add $0.1845 \\cdot 1 \\cdot (-1)$ to the energy, and so on for the other combinations.\n",
    "- When we see terms like `0.0410 * (Y(0) @ X(1) @ X(2) @ Y(3))`, it means that we measure qubit 0 in the Y-basis, qubit 1 in the X-basis, qubit 2 in the X-basis, and qubit 3 in the Y-basis, and then multiply the results together. Of course, we then multiply the result by coefficient to get the contribution to the energy."
   ]
  },
  {
   "cell_type": "code",
   "execution_count": 2,
   "id": "c86c6556",
   "metadata": {},
   "outputs": [
    {
     "name": "stdout",
     "output_type": "stream",
     "text": [
      "Energy of the Hartree-Fock state: -0.8868310139707993\n"
     ]
    }
   ],
   "source": [
    "# Let's see how much energy the hydrogen molecule has with our initial state\n",
    "dev = qml.device('default.qubit', wires=n_qubits)\n",
    "@qml.qnode(dev)\n",
    "def energy_hf():\n",
    "    qml.BasisState(hf_state, wires=range(n_qubits))\n",
    "    return qml.expval(H)\n",
    "print(\"Energy of the Hartree-Fock state:\", energy_hf())"
   ]
  },
  {
   "cell_type": "markdown",
   "id": "649e00a1",
   "metadata": {},
   "source": [
    "The energy we get is about -0.8868 Hartree, which is a unit of energy commonly used in quantum chemistry (1 Hartree is approximately 27.2114 eV or 4.3597e-18 Joules)."
   ]
  },
  {
   "cell_type": "markdown",
   "id": "c39f00f1",
   "metadata": {},
   "source": [
    "## 2. From math to creation/annihilation operators\n",
    "\n",
    "Let's see how we actually get this Hamiltonian from the mathematical description of the hydrogen molecule, instead of just relying on pennylane to give it to us.\n",
    "\n",
    "The non-relativistic electronic Hamiltonian in second quantization is given by:\n",
    "\n",
    "$$\\hat{H} = E_{nuc} + \\sum_{pq} h_{pq} a_p^\\dagger a_q + \\frac{1}{2} \\sum_{pqrs} h_{pqrs} a_p^\\dagger a_q^\\dagger a_r a_s$$\n",
    "\n",
    "Where:\n",
    "- $E_{nuc}$ is the nuclear repulsion energy (constant because we assume the nuclei are stationary)\n",
    "- $h_{pq}$ are the one-electron integrals (kinetic & electron-nuclear attraction). What it does is to sum over all pairs of orbitals (p, q) and calculate the contribution to the energy from an electron moving from orbital q to orbital p. $a_p^\\dagger$ creates an electron in orbital p, and $a_q$ annihilates (removes) an electron from orbital q.\n",
    "- $h_{pqrs}$ are the two-electron integrals (electron-electron repulsion). This term sums over all combinations of four orbitals (p, q, r, s) and calculates the contribution to the energy from two electrons interacting with each other while moving between these orbitals. $a_p^\\dagger$ and $a_q^\\dagger$ create electrons in orbitals p and q, while $a_r$ and $a_s$ annihilate electrons in orbitals r and s. The factor of $\\frac{1}{2}$ is included to avoid double-counting the interactions between pairs of electrons.\n",
    "\n",
    "So in summary, this Hamiltonian describes the total energy of a system of electrons in a molecule by considering their kinetic energy, their attraction to the nuclei, and their repulsion from each other.\n",
    "\n",
    "Pennylane uses classical computational chemistry software to calculate the integrals $h_{pq}$ and $h_{pqrs}$, and then constructs the Hamiltonian using these integrals. Then it uses a mapping (like Jordan-Wigner) to convert the creation and annihilation operators into qubit operators (Pauli matrices). This will be the topic of the next section."
   ]
  },
  {
   "cell_type": "code",
   "execution_count": 3,
   "id": "52b16ec1",
   "metadata": {},
   "outputs": [
    {
     "name": "stdout",
     "output_type": "stream",
     "text": [
      "Core constant (E_nuc):\n",
      "   0.715104339058\n",
      "\n",
      "One-electron integrals h[p,q]:\n",
      "  h[0,0] = -1.253309783263\n",
      "  h[0,1] =  0.000000000000\n",
      "  h[1,0] =  0.000000000000\n",
      "  h[1,1] = -0.475068847654\n",
      "\n",
      "Two-electron integrals h[p,q,r,s] (omitting ~0 terms):\n",
      "  h[0,0,0,0] =  0.674755922309\n",
      "  h[0,0,1,1] =  0.181210458478\n",
      "  h[0,1,0,1] =  0.181210458478\n",
      "  h[0,1,1,0] =  0.663711389773\n",
      "  h[1,0,0,1] =  0.663711389773\n",
      "  h[1,0,1,0] =  0.181210458478\n",
      "  h[1,1,0,0] =  0.181210458478\n",
      "  h[1,1,1,1] =  0.697651485023\n"
     ]
    }
   ],
   "source": [
    "# Compute the core constant and the one- and two-electron integrals\n",
    "# Running on a different h2 object to avoid changing or\n",
    "symbols  = ['H', 'H']\n",
    "geometry = pnp.array([[0.0, 0.0, 0.0], [0.0, 0.0, 0.74]], requires_grad = False)\n",
    "alpha = pnp.array([[3.42525091, 0.62391373, 0.1688554],\n",
    "                  [3.42525091, 0.62391373, 0.1688554]], requires_grad=True)\n",
    "mol = qml.qchem.Molecule(symbols, geometry, alpha=alpha, unit='Angstrom')\n",
    "args = [alpha]\n",
    "\n",
    "E_core, h1, h2 = qml.qchem.electron_integrals(mol)(*args)\n",
    "\n",
    "print(\"Core constant (E_nuc):\")\n",
    "print(f\"  {E_core[0]: .12f}\")\n",
    "\n",
    "print(\"\\nOne-electron integrals h[p,q]:\")\n",
    "for p in range(h1.shape[0]):\n",
    "    for q in range(h1.shape[1]):\n",
    "        val = h1[p, q]\n",
    "        if abs(val) < 1e-12:\n",
    "            val = 0.0\n",
    "        print(f\"  h[{p},{q}] = {val: .12f}\")\n",
    "\n",
    "print(\"\\nTwo-electron integrals h[p,q,r,s] (omitting ~0 terms):\")\n",
    "for p in range(h2.shape[0]):\n",
    "    for q in range(h2.shape[1]):\n",
    "        for r in range(h2.shape[2]):\n",
    "            for s in range(h2.shape[3]):\n",
    "                val = h2[p, q, r, s]\n",
    "                if abs(val) < 1e-12:\n",
    "                    continue\n",
    "                print(f\"  h[{p},{q},{r},{s}] = {val: .12f}\")"
   ]
  },
  {
   "cell_type": "markdown",
   "id": "922c4868",
   "metadata": {},
   "source": [
    "### Quick analysis of the core constant and the one-/two-electron integrals\n",
    "\n",
    "#### Core constant (nuclear repulsion)\n",
    "- $E_{\\mathrm{nuc}} = 0.715104339058$  \n",
    "  Positive nucleus–nucleus Coulomb repulsion; constant energy shift.\n",
    "\n",
    "#### One-electron integrals $h_{pq}$\n",
    "Kinetic + electron–nucleus attraction contributions (diagonal in this basis):\n",
    "- $h_{00} = -1.253309783263$\n",
    "- $h_{01} = h_{10} = 0.000000000000$\n",
    "- $h_{11} = -0.475068847654$\n",
    "\n",
    "Interpretation:\n",
    "- Diagonals are orbital self-energies.\n",
    "- Off-diagonals vanish → no single-electron coupling between 0 and 1 in this canonical (orthogonal) orbital set.\n",
    "\n",
    "#### Two-electron integrals $h_{pqrs}$ (electron–electron repulsion)\n",
    "Non-negligible terms:\n",
    "- $h_{0000} = 0.674755922309$\n",
    "- $h_{0011} = h_{1100} = 0.181210458478$\n",
    "- $h_{0101} = h_{1010} = 0.181210458478$\n",
    "- $h_{0110} = h_{1001} = 0.663711389773$\n",
    "- $h_{1111} = 0.697651485023$\n",
    "\n",
    "Interpretation:\n",
    "- $h_{0000}, h_{1111}$: same-orbital (opposite-spin) Coulomb repulsion.\n",
    "- $h_{0101}$ etc.: direct (Coulomb) interaction between densities of orbitals 0 and 1 ($J_{01}$).\n",
    "- $h_{0110}$ etc.: exchange interaction ($K_{01}$), distinct from $J_{01}$ and typically smaller or comparable; here noticeably larger than $J_{01}$ due to minimal basis characteristics.\n",
    "\n",
    "Symmetry: Standard permutational relations reduce the number of unique values."
   ]
  },
  {
   "cell_type": "markdown",
   "id": "834f37cc",
   "metadata": {},
   "source": [
    "# 3. Fermion to qubit mapping"
   ]
  }
 ],
 "metadata": {
  "kernelspec": {
   "display_name": "qc",
   "language": "python",
   "name": "python3"
  },
  "language_info": {
   "codemirror_mode": {
    "name": "ipython",
    "version": 3
   },
   "file_extension": ".py",
   "mimetype": "text/x-python",
   "name": "python",
   "nbconvert_exporter": "python",
   "pygments_lexer": "ipython3",
   "version": "3.10.18"
  }
 },
 "nbformat": 4,
 "nbformat_minor": 5
}
