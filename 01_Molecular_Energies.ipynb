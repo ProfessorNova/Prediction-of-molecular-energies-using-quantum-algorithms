{
 "cells": [
  {
   "cell_type": "markdown",
   "id": "d90aebbc",
   "metadata": {},
   "source": [
    "# Molecular Energies\n",
    "\n",
    "Let's see how we can use these abstract gates to model something from the real world like molecular energies. In quantum chemistry, the energy levels of electrons in a molecule can be represented using quantum states, and we can use quantum gates to manipulate these states."
   ]
  },
  {
   "cell_type": "markdown",
   "id": "ae342c3d",
   "metadata": {},
   "source": [
    "## 1. The Hamiltonian\n",
    "\n",
    "But first what is the energy of a molecule? In quantum mechanics, the energy of a system is described by an operator called the Hamiltonian.\n",
    "It is basically a sum of terms that represent different interactions within the molecule.\n",
    "\n",
    "The Hamiltonian can be expressed mathematically as:\n",
    "\n",
    "$$\\hat{H}_{tot} = \\hat{T}_N + \\hat{T}_e + \\hat{V}_{eN} + \\hat{V}_{NN} + \\hat{V}_{ee}$$\n",
    "\n",
    "Where:\n",
    "- $\\hat{T}_N$ is the kinetic energy of the nuclei (protons)\n",
    "- $\\hat{T}_e$ is the kinetic energy of the electrons\n",
    "- $\\hat{V}_{eN}$ is the potential energy due to attraction between electrons and nuclei\n",
    "- $\\hat{V}_{NN}$ is the potential energy due to repulsion between nuclei\n",
    "- $\\hat{V}_{ee}$ is the potential energy due to repulsion between electrons\n",
    "\n",
    "Usually, we simplify this Hamiltonian using the Born-Oppenheimer approximation, which assumes that the nuclei are stationary compared to the fast-moving electrons. This allows us to focus on the electronic part of the Hamiltonian:\n",
    "\n",
    "$$\\hat{H}_{elec} = \\hat{T}_e + \\hat{V}_{eN} + \\hat{V}_{ee}$$"
   ]
  },
  {
   "cell_type": "markdown",
   "id": "0764c1b1",
   "metadata": {},
   "source": [
    "### Hydrogen Molecule\n",
    "\n",
    "To have something to work with let's consider the simplest molecule, the hydrogen molecule (H₂). It consists of two protons and two electrons. We will use pennylane to get the Hamiltonian for this molecule."
   ]
  },
  {
   "cell_type": "code",
   "execution_count": 15,
   "id": "6c2be150",
   "metadata": {},
   "outputs": [
    {
     "name": "stdout",
     "output_type": "stream",
     "text": [
      "Number of qubits: 4\n",
      "Hamiltonian:\n",
      "0.77841075162376 * I([0, 1, 2, 3]) + 0.23718740030498503 * Z(0) + 0.23718740030498492 * Z(1) + 0.18456105296876085 * (Z(0) @ Z(1)) + -0.46124957076321915 * Z(2) + 0.1406570058501 * (Z(0) @ Z(2)) + 0.18170118517545286 * (Z(1) @ Z(2)) + 0.041044179325352856 * (Y(0) @ X(1) @ X(2) @ Y(3)) + -0.041044179325352856 * (Y(0) @ Y(1) @ X(2) @ X(3)) + -0.041044179325352856 * (X(0) @ X(1) @ Y(2) @ Y(3)) + 0.041044179325352856 * (X(0) @ Y(1) @ Y(2) @ X(3)) + -0.46124957076321915 * Z(3) + 0.18170118517545286 * (Z(0) @ Z(3)) + 0.1406570058501 * (Z(1) @ Z(3)) + 0.1917875056241929 * (Z(2) @ Z(3))\n",
      "Hartree-Fock state: [1 1 0 0]\n"
     ]
    }
   ],
   "source": [
    "# Building Hamiltonian for H₂ using pennylane\n",
    "import pennylane as qml\n",
    "from pennylane import numpy as pnp\n",
    "\n",
    "# Define the molecular parameters\n",
    "symbols = ['H', 'H']\n",
    "bond_length = 0.74  # in Angstroms\n",
    "coordinates = pnp.array([[0.0, 0.0, -bond_length/2],\n",
    "                         [0.0, 0.0,  bond_length/2]], dtype=float)\n",
    "\n",
    "# Build the qubit Hamiltonian\n",
    "H, n_qubits = qml.qchem.molecular_hamiltonian(\n",
    "    symbols,\n",
    "    coordinates,\n",
    "    charge=0,\n",
    "    mult=1,\n",
    "    basis='sto-3g',\n",
    "    mapping='jordan_wigner',\n",
    ")\n",
    "hf_state = qml.qchem.hf_state(\n",
    "    electrons=2, orbitals=n_qubits\n",
    ")\n",
    "\n",
    "print(\"Number of qubits:\", n_qubits)\n",
    "print(\"Hamiltonian:\")\n",
    "print(H)\n",
    "print(\"Hartree-Fock state:\", hf_state)"
   ]
  }
 ],
 "metadata": {
  "kernelspec": {
   "display_name": "qc",
   "language": "python",
   "name": "python3"
  },
  "language_info": {
   "codemirror_mode": {
    "name": "ipython",
    "version": 3
   },
   "file_extension": ".py",
   "mimetype": "text/x-python",
   "name": "python",
   "nbconvert_exporter": "python",
   "pygments_lexer": "ipython3",
   "version": "3.10.18"
  }
 },
 "nbformat": 4,
 "nbformat_minor": 5
}
